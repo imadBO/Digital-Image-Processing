{
 "cells": [
  {
   "cell_type": "markdown",
   "metadata": {},
   "source": [
    "# Imad BOUGHELOUS 171735056250\n",
    "# Mohamed Abderrahmane KHELLADI 181838069628\n",
    "# Ishak BELAID 171731052974\n",
    "# Rabah HAFIANE 171735059686"
   ]
  },
  {
   "cell_type": "code",
   "execution_count": null,
   "metadata": {},
   "outputs": [],
   "source": [
    "import numpy as np\n",
    "import cv2 as cv\n",
    "import matplotlib.pyplot as plt\n",
    "import matplotlib as mpl\n",
    "import math\n"
   ]
  },
  {
   "cell_type": "code",
   "execution_count": null,
   "metadata": {},
   "outputs": [],
   "source": [
    "# Image preparation.\n",
    "image = np.zeros((8, 8))\n",
    "image[0, 0] = 0\n",
    "image[0, 1] = 12\n",
    "image[0, 2] = 53\n",
    "image[0, 3] = 32\n",
    "image[0, 4] = 190\n",
    "image[0, 5] = 53\n",
    "image[0, 6] = 174\n",
    "image[0, 7] = 53\n",
    "image[1, 0] = 57\n",
    "image[1, 1] = 32\n",
    "image[1, 2] = 12\n",
    "image[1, 3] = 227\n",
    "image[1, 4] = 219\n",
    "image[1, 5] = 202\n",
    "image[1, 6] = 32\n",
    "image[1, 7] = 154\n",
    "image[2, 0] = 65\n",
    "image[2, 1] = 85\n",
    "image[2, 2] = 93\n",
    "image[2, 3] = 239\n",
    "image[2, 4] = 251\n",
    "image[2, 5] = 227\n",
    "image[2, 6] = 65\n",
    "image[2, 7] = 158\n",
    "image[3, 0] = 73\n",
    "image[3, 1] = 146\n",
    "image[3, 2] = 146\n",
    "image[3, 3] = 247\n",
    "image[3, 4] = 255\n",
    "image[3, 5] = 235\n",
    "image[3, 6] = 154\n",
    "image[3, 7] = 130\n",
    "image[4, 0] = 97\n",
    "image[4, 1] = 166\n",
    "image[4, 2] = 117\n",
    "image[4, 3] = 231\n",
    "image[4, 4] = 243\n",
    "image[4, 5] = 210\n",
    "image[4, 6] = 117\n",
    "image[4, 7] = 117\n",
    "image[5, 0] = 117\n",
    "image[5, 1] = 190\n",
    "image[5, 2] = 36\n",
    "image[5, 3] = 146\n",
    "image[5, 4] = 178\n",
    "image[5, 5] = 93\n",
    "image[5, 6] = 20\n",
    "image[5, 7] = 170\n",
    "image[6, 0] = 130\n",
    "image[6, 1] = 202\n",
    "image[6, 2] = 73\n",
    "image[6, 3] = 20\n",
    "image[6, 4] = 12\n",
    "image[6, 5] = 53\n",
    "image[6, 6] = 85\n",
    "image[6, 7] = 194\n",
    "image[7, 0] = 146\n",
    "image[7, 1] = 206\n",
    "image[7, 2] = 130\n",
    "image[7, 3] = 117\n",
    "image[7, 4] = 85\n",
    "image[7, 5] = 166\n",
    "image[7, 6] = 182\n",
    "image[7, 7] = 215\n",
    "image\n",
    "imageHeight = image.shape[0]\n",
    "imageWidth = image.shape[1]\n"
   ]
  },
  {
   "cell_type": "code",
   "execution_count": null,
   "metadata": {},
   "outputs": [],
   "source": [
    "# Reading an image.\n",
    "# image =cv.imread('image1.jpg',0)\n",
    "# imageHeight = image.shape[0]\n",
    "# imageWidth = image.shape[1]\n",
    "# Uncomment this if needed.\n"
   ]
  },
  {
   "cell_type": "code",
   "execution_count": null,
   "metadata": {},
   "outputs": [],
   "source": [
    "# Displaying the image.\n",
    "plt.imshow(image, cmap='gray')\n"
   ]
  },
  {
   "cell_type": "markdown",
   "metadata": {},
   "source": [
    "# Caculating the image gradient:\n",
    "first we have to define a convolution function"
   ]
  },
  {
   "cell_type": "code",
   "execution_count": null,
   "metadata": {},
   "outputs": [],
   "source": [
    "def convolution(image, filter, border):\n",
    "    # paddedImage = cv.copyMakeBorder(image, border, border, border, border, cv.BORDER_CONSTANT, None, value=0)\n",
    "    paddedImage = cv.copyMakeBorder(image, border, border, border, border, cv.BORDER_REFLECT)\n",
    "    imageHeight = image.shape[0]\n",
    "    imageWidth = image.shape[1]\n",
    "    paddedImageHeight = paddedImage.shape[0]\n",
    "    paddedImageWidth = paddedImage.shape[1]\n",
    "    # The two below variables will be used to construct submatrices from the image with the same shape as the filter,\n",
    "    # in order to convolve them later on with the filter.\n",
    "    heightReduce = paddedImageHeight - imageHeight  # To avoid an overflow.\n",
    "    widthReduce = paddedImageWidth - imageWidth  # To avoid an overflow.\n",
    "    # Constructing the submatrices of the image.\n",
    "    imageSubMatrices = []\n",
    "    for i in range(0, paddedImageHeight - heightReduce):\n",
    "        for j in range(0, paddedImageWidth - widthReduce):\n",
    "            # To extract a submatrix which has the same shape as the image.\n",
    "            np.array(imageSubMatrices.append(\n",
    "                paddedImage[i:i+filter.shape[0], j:j+filter.shape[0]]))\n",
    "    imageSubMatrices = np.array(imageSubMatrices)\n",
    "    # The convolution process.\n",
    "    convolvedValues = []\n",
    "    for i in range(0, imageSubMatrices.shape[0]):\n",
    "        # Convoluting the image submatrices with the filter.\n",
    "        convolvedValues.append(int(np.sum(imageSubMatrices[i] * filter)))\n",
    "    convolvedValues = np.array(convolvedValues)\n",
    "    # To get the convoluted matrix from the array which contains the convolved values (a matrix with the same shape as the original image).\n",
    "    convolvedImage = convolvedValues.reshape((imageHeight, imageWidth))\n",
    "    return convolvedImage\n"
   ]
  },
  {
   "cell_type": "markdown",
   "metadata": {},
   "source": [
    "Gradient with respect to x :"
   ]
  },
  {
   "cell_type": "code",
   "execution_count": null,
   "metadata": {},
   "outputs": [],
   "source": [
    "# Gradient with respect to x: G(x) = I(i+1,j) - I(i,j).\n",
    "xGradient = np.zeros((imageHeight, imageWidth), int)\n",
    "for i in range(0, imageHeight-1):\n",
    "    for j in range(0, imageWidth):\n",
    "        # G(x) = I(i+1,j) - I(i,j).\n",
    "        xGradient[i, j] = image[i+1, j]-image[i, j]\n",
    "# The last row of the xGradient will be the last row of the image times -1.\n",
    "lastRow = imageHeight - 1\n",
    "for i in range(0, imageWidth):\n",
    "    xGradient[lastRow, i] = -image[lastRow, i]\n",
    "print('Image gradient with respect to x is :\\n', xGradient)\n",
    "# plt.imshow(xGradient,cmap='gray')\n"
   ]
  },
  {
   "cell_type": "markdown",
   "metadata": {},
   "source": [
    "Gradient with respect to y :"
   ]
  },
  {
   "cell_type": "code",
   "execution_count": null,
   "metadata": {},
   "outputs": [],
   "source": [
    "# Gradient with respect to y: G(y) = I(i,j+1) - I(i,j).\n",
    "yGradient = np.zeros((imageHeight, imageWidth), int)\n",
    "for j in range(0, imageWidth-1):\n",
    "    for i in range(0, imageHeight):\n",
    "        # G(y) = I(i,j+1) - I(i,j).\n",
    "        yGradient[i, j] = image[i, j+1]-image[i, j]\n",
    "# The last  of the xGradient will be the last Column of the image times -1.\n",
    "lastColumn = imageWidth - 1\n",
    "for i in range(0, imageHeight):\n",
    "    yGradient[i, lastColumn] = -image[i, lastColumn]\n",
    "print('\\nImage gradient with respect to y is :\\n', yGradient)\n",
    "# plt.imshow(yGradient,cmap='gray')\n"
   ]
  },
  {
   "cell_type": "markdown",
   "metadata": {},
   "source": [
    "Gradient magnitude $Mod(G(i,j)) = \\sqrt{(G_x(i,j)^2+G_y(j,j)^2} $"
   ]
  },
  {
   "cell_type": "code",
   "execution_count": null,
   "metadata": {},
   "outputs": [],
   "source": [
    "# Magnitude: mod(G(x,y)) = sqrt( g(x)^2 + g(y)^2 ).\n",
    "gradientMagnitude = np.zeros((imageHeight, imageWidth), float)\n",
    "for i in range(0, imageHeight):\n",
    "    for j in range(0, imageWidth):\n",
    "        # mod(G(x,y)) = sqrt( g(x)^2 + g(y)^2 ).\n",
    "        gradientMagnitude[i, j] = round(\n",
    "            math.sqrt(xGradient[i, j]**2 + yGradient[i, j]**2), 3)\n",
    "print('\\nGradient magnitude :', gradientMagnitude)\n",
    "# plt.imshow(gradientMagnitude,cmap='gray')\n"
   ]
  },
  {
   "cell_type": "markdown",
   "metadata": {},
   "source": [
    "Gradient orientation $\\theta = tan^{-1}\\left( \\frac{G_y(i,j) }{G_x(j,j)}\\right) $  :"
   ]
  },
  {
   "cell_type": "code",
   "execution_count": null,
   "metadata": {},
   "outputs": [],
   "source": [
    "# Orientation: tan-1( g(y) / g(x) ).\n",
    "gradientOrientation = np.zeros((imageHeight, imageWidth), float)\n",
    "for i in range(0, imageHeight):\n",
    "    for j in range(0, imageWidth):\n",
    "        # tan-1( g(y) / g(x) ).\n",
    "        gradientOrientation[i, j] = round(math.degrees(\n",
    "            math.atan(yGradient[i, j]/xGradient[i, j])), 3)\n",
    "print('\\nGradient orientation :', gradientOrientation)\n",
    "# plt.imshow(gradientOrientation,cmap='gray')\n"
   ]
  },
  {
   "cell_type": "markdown",
   "metadata": {},
   "source": [
    "# Image Binarization threshold = 70.\n",
    "1) Image binarization according to the magnitude (G(i,j)>70)  \n",
    "2) Image binarization according to the gray scale (I(x,y)>70)"
   ]
  },
  {
   "cell_type": "code",
   "execution_count": null,
   "metadata": {},
   "outputs": [],
   "source": [
    "# Image binarization according to the magnitude threshold = 70.\n",
    "binarizedImageMag = np.zeros((imageHeight, imageWidth), int)\n",
    "for i in range(0, imageHeight):\n",
    "    for j in range(0, imageWidth):\n",
    "        if(gradientMagnitude[i, j] > 70):\n",
    "            # If the magnitude is greater than 70 then set the value of the pixel to 1.\n",
    "            binarizedImageMag[i, j] = 1\n",
    "print('\\nBinarized image according to the magnitude :\\n', binarizedImageMag)\n",
    "plt.imshow(binarizedImageMag, cmap='gray', vmin=0, vmax=1)\n"
   ]
  },
  {
   "cell_type": "code",
   "execution_count": null,
   "metadata": {},
   "outputs": [],
   "source": [
    "# Image binarization according to the gray scale threshold = 70.\n",
    "binarizedImageGra = np.zeros((imageHeight, imageWidth), int)\n",
    "for i in range(0, imageHeight):\n",
    "    for j in range(0, imageWidth):\n",
    "        if(image[i, j] > 70):\n",
    "            # If the gray scale is greater than 70 then set the value of the pixel to 1.\n",
    "            binarizedImageGra[i, j] = 1\n",
    "print('\\nBinarized image according to the gray scale :\\n', binarizedImageGra)\n",
    "plt.imshow(binarizedImageGra, cmap='gray', vmin=0, vmax=1)\n"
   ]
  },
  {
   "cell_type": "markdown",
   "metadata": {},
   "source": [
    "# Observations and conclusions about the two binarizations (according to the magnitude and the gray scale):\n",
    "Binarization according to the magnitude will make the outlines visible or in other words it will extract the outlines of the object of the image."
   ]
  },
  {
   "cell_type": "code",
   "execution_count": null,
   "metadata": {},
   "outputs": [],
   "source": [
    "# Binarization according to the magnitude.\n",
    "plt.subplot(121);plt.title(\"Magnitude bin\");plt.imshow(binarizedImageMag, cmap='gray')\n",
    "# Binarization according to the gray scales.\n",
    "plt.subplot(122);plt.title(\"Gray scale bin\");plt.imshow(binarizedImageGra, cmap='gray')\n"
   ]
  },
  {
   "cell_type": "markdown",
   "metadata": {},
   "source": [
    "# Dilation with a diamond structring element"
   ]
  },
  {
   "cell_type": "code",
   "execution_count": null,
   "metadata": {},
   "outputs": [],
   "source": [
    "# Image dilation with a diamond structring element.\n",
    "# Creating the structuring element.\n",
    "dilationStructuringElt = np.full((3, 3), 1)\n",
    "# paddedBinImage = cv.copyMakeBorder(binarizedImageMag, 1, 1, 1, 1, cv.BORDER_CONSTANT, None, value = 0)\n",
    "# In oreder to get the same results as the opencv we have to use BORDER_REFLECT instead of BORDER_CONSTANT.\n",
    "paddedBinImage = cv.copyMakeBorder(\n",
    "    binarizedImageMag, 1, 1, 1, 1, cv.BORDER_REFLECT)\n",
    "# Constructing binarizedSubMatrices from the padded image with the same size as the structring element.\n",
    "binarizedSubMatrices = []\n",
    "for i in range(0, paddedBinImage.shape[0] - 2):\n",
    "    for j in range(0, paddedBinImage.shape[1] - 2):\n",
    "        np.array(binarizedSubMatrices.append(\n",
    "            paddedBinImage[i:i+dilationStructuringElt.shape[0], j:j+dilationStructuringElt.shape[0]]))\n",
    "binarizedSubMatrices = np.array(binarizedSubMatrices)\n",
    "# Erosion process \"and\".\n",
    "dilatedValues = []\n",
    "for i in range(0, binarizedSubMatrices.shape[0]):\n",
    "    if(np.any(binarizedSubMatrices[i] == dilationStructuringElt)):\n",
    "        dilatedValues.append(1)\n",
    "    else:\n",
    "        dilatedValues.append(0)\n",
    "dilatedValues = np.array(dilatedValues)\n",
    "# To turn the one dimensional array into a two dimensional array with the same shape as the original image.\n",
    "dilatedImage = dilatedValues.reshape((imageHeight, imageWidth))\n",
    "plt.imshow(dilatedImage, cmap='gray')\n"
   ]
  },
  {
   "cell_type": "markdown",
   "metadata": {},
   "source": [
    "# Erosion with a square structring element"
   ]
  },
  {
   "cell_type": "code",
   "execution_count": null,
   "metadata": {},
   "outputs": [],
   "source": [
    "# Image erosion with a square structring element.\n",
    "erosionStructuringElt = np.full((3, 3), 1)  # Creating the structuring element.\n",
    "# paddedBinImage = cv.copyMakeBorder(binarizedImageMag, 1, 1, 1, 1, cv.BORDER_CONSTANT, None, value = 0)\n",
    "# In oreder to get the same results as the opencv we have to use BORDER_REFLECT instead of BORDER_CONSTANT.\n",
    "paddedBinImage = cv.copyMakeBorder(\n",
    "    binarizedImageMag, 1, 1, 1, 1, cv.BORDER_REFLECT)\n",
    "# Constructing binarizedSubMatrices from the padded image with the same size as the structring element.\n",
    "binarizedSubMatrices = []\n",
    "for i in range(0, paddedBinImage.shape[0] - 2):\n",
    "    for j in range(0, paddedBinImage.shape[1] - 2):\n",
    "        np.array(binarizedSubMatrices.append(\n",
    "            paddedBinImage[i:i+erosionStructuringElt.shape[0], j:j+erosionStructuringElt.shape[0]]))\n",
    "binarizedSubMatrices = np.array(binarizedSubMatrices)\n",
    "# Erosion process \"and\".\n",
    "erodedValues = []\n",
    "for i in range(0, binarizedSubMatrices.shape[0]):\n",
    "    if(np.all(binarizedSubMatrices[i] == erosionStructuringElt)):\n",
    "        erodedValues.append(1)\n",
    "    else:\n",
    "        erodedValues.append(0)\n",
    "erodedValues = np.array(erodedValues)\n",
    "# To turn the one dimensional array into a two dimensional array with the same shape as the original image.\n",
    "erodedImage = erodedValues.reshape((imageHeight, imageWidth))\n",
    "plt.imshow(erodedImage, cmap='gray')\n"
   ]
  },
  {
   "cell_type": "markdown",
   "metadata": {},
   "source": [
    "# Comparison with opencv results\n",
    "As we can see the manual results are exactly the same as opencv results (and in oreder to get the same results we have to use the same padding values in our case we chose the cv.BORDER_REFLECT which is the default border used by opencv built in functions)."
   ]
  },
  {
   "cell_type": "code",
   "execution_count": null,
   "metadata": {},
   "outputs": [],
   "source": [
    "# Erosion with the opencv built in function.\n",
    "imageER = cv.erode(binarizedImageMag.astype('uint8'),np.ones((3, 3), np.uint8), iterations=1)\n",
    "# Dilation with the opencv built in function.\n",
    "imageDI = cv.dilate(binarizedImageMag.astype('uint8'),np.ones((3, 3), np.uint8), iterations=1)\n",
    "plt.subplot(141);plt.title('Man DI');plt.imshow(dilatedImage, cmap='gray')\n",
    "plt.subplot(142);plt.title('Opencv DI');plt.imshow(imageDI, cmap='gray')\n",
    "plt.subplot(143);plt.title('Man ER');plt.imshow(erodedImage, cmap='gray')\n",
    "plt.subplot(144);plt.title('Opencv ER');plt.imshow(imageER, cmap='gray')\n"
   ]
  },
  {
   "cell_type": "markdown",
   "metadata": {},
   "source": [
    "# Derivative with Prewitt and Sobel filters\n",
    "First we have to create Prewitt & Sobel filters with respect to x & y"
   ]
  },
  {
   "cell_type": "code",
   "execution_count": null,
   "metadata": {},
   "outputs": [],
   "source": [
    "# Prewitt\n",
    "# Horizontal prewitt mask.\n",
    "xPrewittMask = np.array([[-1, 0, 1], [-1, 0, 1], [-1, 0, 1]])\n",
    "# Vertical prewitt mask.\n",
    "yPrewittMask = np.array([[-1, -1, -1], [0, 0, 0], [1, 1, 1]])\n",
    "\n",
    "# Sobel\n",
    "# Horizontal Sobel mask.\n",
    "xSobelMask = np.array([[-1, 0, 1], [-2, 0, 2], [-1, 0, 1]])\n",
    "# Vertical Sobel mask.\n",
    "ySobelMask = np.array([[-1, -2, -1], [0, 0, 0], [1, 2, 1]])\n"
   ]
  },
  {
   "cell_type": "markdown",
   "metadata": {},
   "source": [
    "Derivative using Prewitt filter with respect to x :"
   ]
  },
  {
   "cell_type": "code",
   "execution_count": null,
   "metadata": {},
   "outputs": [],
   "source": [
    "xPrewittGradient = convolution(image,xPrewittMask,1)\n",
    "print('Prewitt gradient with respect to x :\\n',xPrewittGradient)\n",
    "plt.imshow(xPrewittGradient,cmap='gray')"
   ]
  },
  {
   "cell_type": "markdown",
   "metadata": {},
   "source": [
    "Derivative using Prewitt filter with respect to y :"
   ]
  },
  {
   "cell_type": "code",
   "execution_count": null,
   "metadata": {},
   "outputs": [],
   "source": [
    "yPrewittGradient = convolution(image,yPrewittMask,1)\n",
    "print('Prewitt gradient with respect to y :\\n',yPrewittGradient)\n",
    "plt.imshow(yPrewittGradient,cmap='gray')"
   ]
  },
  {
   "cell_type": "markdown",
   "metadata": {},
   "source": [
    "Derivative using Sobel filter with respect to x :"
   ]
  },
  {
   "cell_type": "code",
   "execution_count": null,
   "metadata": {},
   "outputs": [],
   "source": [
    "xSobelGradient = convolution(image,xSobelMask,1)\n",
    "print('Sobel gradient with respect to x :\\n',xSobelGradient)\n",
    "plt.imshow(xSobelGradient,cmap='gray')"
   ]
  },
  {
   "cell_type": "markdown",
   "metadata": {},
   "source": [
    "Derivative using Sobel filter with respect to y :"
   ]
  },
  {
   "cell_type": "code",
   "execution_count": null,
   "metadata": {},
   "outputs": [],
   "source": [
    "ySobelGradient = convolution(image,ySobelMask,1)\n",
    "print('Sobel gradient with respect to y :\\n',ySobelGradient)\n",
    "plt.imshow(ySobelGradient,cmap='gray')"
   ]
  },
  {
   "cell_type": "markdown",
   "metadata": {},
   "source": [
    "# Comparison with opencv results (Prewitt & Sobel filtring)\n",
    "As we can see the manual results are the same as opencv results except for \"the first and the last row in the gradient with respect to x also the first and the last column with respect to y\", which are different where in opencv results all the pixels of those rows and columns have one light gray scale in contrast the manual results those pixels have different gray scales.\n",
    "(and in oreder to get the same results we have to use the same padding values in our case we chose the cv.BORDER_REFLECT which is the default border used by opencv built in functions)."
   ]
  },
  {
   "cell_type": "code",
   "execution_count": null,
   "metadata": {},
   "outputs": [],
   "source": [
    "Gx_Prewitt_cv=cv.filter2D(image,-1,kernel=xPrewittMask)\n",
    "Gy_Prewitt_cv=cv.filter2D(image,-1,kernel=yPrewittMask)\n",
    "Gx_Sobel_cv=cv.filter2D(image,-1,kernel=xSobelMask)\n",
    "Gy_Sobel_cv=cv.filter2D(image,-1,kernel=ySobelMask)\n",
    "# Opencv gradient.\n",
    "plt.subplot(241);plt.title('cv2 xPrewitt');plt.imshow(Gx_Prewitt_cv,cmap='gray')\n",
    "plt.subplot(242);plt.title('cv2 yPrewitt');plt.imshow(Gy_Prewitt_cv,cmap='gray')\n",
    "plt.subplot(243);plt.title('cv2 xSobel');plt.imshow(Gx_Sobel_cv,cmap='gray')\n",
    "plt.subplot(244);plt.title('cv2 ySobel');plt.imshow(Gy_Sobel_cv,cmap='gray')\n",
    "# Manually calculated gradient.\n",
    "plt.subplot(245);plt.title('Man xPrewitt');plt.imshow(xPrewittGradient,cmap='gray')\n",
    "plt.subplot(246);plt.title('Man yPrewitt');plt.imshow(yPrewittGradient,cmap='gray')\n",
    "plt.subplot(247);plt.title('Man xSobel');plt.imshow(xSobelGradient,cmap='gray')\n",
    "plt.subplot(248);plt.title('Man ySobel');plt.imshow(ySobelGradient,cmap='gray') "
   ]
  },
  {
   "cell_type": "markdown",
   "metadata": {},
   "source": [
    "# Second derivative (Laplacian)\n",
    "Convolution with Laplacian mask."
   ]
  },
  {
   "cell_type": "code",
   "execution_count": null,
   "metadata": {},
   "outputs": [],
   "source": [
    "# Laplacian mask:\n",
    "laplacianMask = np.array([[0,1,0],[1,-4,1],[0,1,0]]) \n",
    "secondDerivative = convolution(image,laplacianMask,1)\n",
    "print('Second derivative :\\n',secondDerivative)\n",
    "plt.imshow(secondDerivative,cmap='gray')\n"
   ]
  },
  {
   "cell_type": "markdown",
   "metadata": {},
   "source": [
    "# Comparison with opencv second derivative\n",
    "As we can see the manual results are the same as opencv results"
   ]
  },
  {
   "cell_type": "code",
   "execution_count": null,
   "metadata": {},
   "outputs": [],
   "source": [
    "second_Derivative_cv=cv.filter2D(image,-1,kernel=laplacianMask)\n",
    "# Opencv second derivative.\n",
    "plt.subplot(121);plt.title('cv2 2nd derivative');plt.imshow(second_Derivative_cv,cmap='gray')\n",
    "# Manually calculated second derivative.\n",
    "plt.subplot(122);plt.title('Man 2nd derivative');plt.imshow(secondDerivative,cmap='gray')"
   ]
  },
  {
   "cell_type": "markdown",
   "metadata": {},
   "source": [
    "# Mean filtering :"
   ]
  },
  {
   "cell_type": "code",
   "execution_count": null,
   "metadata": {},
   "outputs": [],
   "source": [
    "#Mean filter\n",
    "meanMask = np.ones((3,3)) * (1/9)"
   ]
  },
  {
   "cell_type": "code",
   "execution_count": null,
   "metadata": {},
   "outputs": [],
   "source": [
    "# Mean filtering.\n",
    "# We have a 3*3 window so the window coefficient equals 1/3^2 = 1/9.\n",
    "meanFiltering =convolution(image,meanMask,1)\n",
    "print('Mean filtered image:\\n',meanFiltering)\n",
    "plt.imshow(meanFiltering,cmap='gray')"
   ]
  },
  {
   "cell_type": "markdown",
   "metadata": {},
   "source": [
    "# Comparison with opencv results (mean filtering) :\n",
    "As we can see there is a small difference between the two results which is barely visible (there are some pixels in the manually calculated results which are lighter than the ones in the opencv results)."
   ]
  },
  {
   "cell_type": "code",
   "execution_count": null,
   "metadata": {},
   "outputs": [],
   "source": [
    "# Opencv mean filtering.\n",
    "imageMean = cv.blur(image,(3,3))\n",
    "# Opencv results.\n",
    "plt.subplot(121);plt.title('cv2 mean filtring');plt.imshow(imageMean,cmap='gray')\n",
    "# Manually calculated results\n",
    "plt.subplot(122);plt.title('Man mean filtring');plt.imshow(meanFiltering,cmap='gray')"
   ]
  },
  {
   "cell_type": "markdown",
   "metadata": {},
   "source": [
    "# Gaussian Filtering :\n",
    "\n",
    "Gauss filter"
   ]
  },
  {
   "cell_type": "code",
   "execution_count": null,
   "metadata": {},
   "outputs": [],
   "source": [
    "# gaussianMask = np.zeros((3,3))\n",
    "# temp=round(2*math.pi,3)\n",
    "# for i in range(0,3):\n",
    "#     for j in range(0,3):\n",
    "#         gaussianMask[i,j]= round(1/temp*math.exp(-i**2 + j**2),3)\n",
    "# print(gaussianMask)\n",
    "gaussianMask = np.array([[0.36,0.61,0.37],\n",
    "                        [0.61,1,0.60],\n",
    "                        [0.37,0.60,0.36]\n",
    "                       ])\n"
   ]
  },
  {
   "cell_type": "code",
   "execution_count": null,
   "metadata": {},
   "outputs": [],
   "source": [
    "gaussFiltering = convolution(image,gaussianMask,1)\n",
    "print('Gaussian filtered image:\\n',meanFiltering)\n",
    "plt.imshow(gaussFiltering,cmap='gray')"
   ]
  },
  {
   "cell_type": "markdown",
   "metadata": {},
   "source": [
    "# Comparison with opencv results (Gaussian filtering):\n",
    "As we can see the results are almost the same (there are some few different pixels)"
   ]
  },
  {
   "cell_type": "code",
   "execution_count": null,
   "metadata": {},
   "outputs": [],
   "source": [
    "# Gaussian filtering with opencv.\n",
    "imageGauss= cv.GaussianBlur(image, (3,3),cv.BORDER_REFLECT)\n",
    "# Opencv results.\n",
    "plt.subplot(121);plt.title('cv2 gaussian filtring');plt.imshow(imageGauss,cmap='gray')\n",
    "# Manually calculated results\n",
    "plt.subplot(122);plt.title('Man gaussian filtring');plt.imshow(gaussFiltering,cmap='gray')"
   ]
  },
  {
   "cell_type": "markdown",
   "metadata": {},
   "source": [
    "# Median filtring"
   ]
  },
  {
   "cell_type": "code",
   "execution_count": null,
   "metadata": {},
   "outputs": [],
   "source": [
    "paddedImage = cv.copyMakeBorder(image, 1, 1, 1, 1, cv.BORDER_REFLECT)\n",
    "paddedImageHeight = paddedImage.shape[0]\n",
    "paddedImageWidth = paddedImage.shape[1]\n",
    "imageSubMatrices = []\n",
    "for i in range(0, paddedImageHeight - 2):\n",
    "    for j in range(0, paddedImageWidth - 2):\n",
    "        # To extract a submatrix which has the same shape as the image.\n",
    "        np.array(imageSubMatrices.append(\n",
    "            paddedImage[i:i+3, j:j+3]))\n",
    "imageSubMatrices = np.array(imageSubMatrices)\n",
    "medianValues=[]\n",
    "for i in range(0,imageSubMatrices.shape[0]):\n",
    "    matrix = imageSubMatrices[i]\n",
    "    matrixToArray = []\n",
    "    for j in range(0,matrix.shape[0]):\n",
    "        for k in range(0,matrix.shape[1]):\n",
    "            matrixToArray.append(matrix[j,k])\n",
    "    matrixToArray.sort()\n",
    "    medianValues.append(matrixToArray[4])\n",
    "\n",
    "medianValues = np.array(medianValues)\n",
    "medianFiltering = medianValues.reshape((imageHeight,imageWidth))\n",
    "print(medianFiltering)\n",
    "plt.imshow(medianFiltering,cmap='gray')"
   ]
  },
  {
   "cell_type": "markdown",
   "metadata": {},
   "source": [
    "# Comparison with opencv results (median filtering) :\n",
    "As we can see the results are exactly the same."
   ]
  },
  {
   "cell_type": "code",
   "execution_count": null,
   "metadata": {},
   "outputs": [],
   "source": [
    "imageMed = cv.medianBlur(image.astype('uint8'),3)\n",
    "# Opencv results.\n",
    "plt.subplot(121);plt.title('cv2 median filtring');plt.imshow(imageMed,cmap='gray')\n",
    "# Manually calculated results\n",
    "plt.subplot(122);plt.title('Man median filtring');plt.imshow(medianFiltering,cmap='gray')"
   ]
  }
 ],
 "metadata": {
  "interpreter": {
   "hash": "916dbcbb3f70747c44a77c7bcd40155683ae19c65e1c03b4aa3499c5328201f1"
  },
  "kernelspec": {
   "display_name": "Python 3.8.10 64-bit",
   "language": "python",
   "name": "python3"
  },
  "language_info": {
   "codemirror_mode": {
    "name": "ipython",
    "version": 3
   },
   "file_extension": ".py",
   "mimetype": "text/x-python",
   "name": "python",
   "nbconvert_exporter": "python",
   "pygments_lexer": "ipython3",
   "version": "3.8.10"
  },
  "orig_nbformat": 4
 },
 "nbformat": 4,
 "nbformat_minor": 2
}
