{
 "cells": [
  {
   "cell_type": "code",
   "execution_count": 135,
   "metadata": {},
   "outputs": [],
   "source": [
    "import numpy as np\n",
    "import cv2 as cv\n",
    "import matplotlib.pyplot as plt\n",
    "import matplotlib as mpl\n",
    "import math\n"
   ]
  },
  {
   "cell_type": "code",
   "execution_count": 136,
   "metadata": {},
   "outputs": [],
   "source": [
    "# Image preparation.\n",
    "image = np.array([[0,12,53,32,190,53,174,53],\n",
    "                  [57,32,12,227,219,202,32,154],\n",
    "                  [65,85,93,239,251,227,65,158],\n",
    "                  [73,146,146,247,255,235,154,130],\n",
    "                  [97,166,117,231,243,210,117,117],\n",
    "                  [117,190,36,146,178,93,20,170],\n",
    "                  [130,202,73,20,12,53,85,194],\n",
    "                  [146,206,130,117,85,166,182,215]])\n",
    "image = np.float32(image)\n",
    "imageHeight = image.shape[0]\n",
    "imageWidth = image.shape[1]\n"
   ]
  },
  {
   "cell_type": "code",
   "execution_count": 137,
   "metadata": {},
   "outputs": [],
   "source": [
    "# Reading an image.\n",
    "# image =cv.imread('image1.jpg',0)\n",
    "# imageHeight = image.shape[0]\n",
    "# imageWidth = image.shape[1]\n",
    "# Uncomment this if needed.\n"
   ]
  },
  {
   "cell_type": "code",
   "execution_count": 138,
   "metadata": {},
   "outputs": [
    {
     "data": {
      "text/plain": [
       "<matplotlib.image.AxesImage at 0x7fb6e4696b20>"
      ]
     },
     "execution_count": 138,
     "metadata": {},
     "output_type": "execute_result"
    },
    {
     "data": {
      "image/png": "[encoded data removed]",
      "text/plain": [
       "<Figure size 432x288 with 1 Axes>"
      ]
     },
     "metadata": {
      "needs_background": "light"
     },
     "output_type": "display_data"
    }
   ],
   "source": [
    "# Displaying the image.\n",
    "plt.imshow(image, cmap='gray')\n"
   ]
  },
  {
   "cell_type": "markdown",
   "metadata": {},
   "source": [
    "# Caculating the image gradient:\n",
    "first we have to define a convolution function"
   ]
  },
  {
   "cell_type": "code",
   "execution_count": 139,
   "metadata": {},
   "outputs": [],
   "source": [
    "def convolution(image, filter, border):\n",
    "    # paddedImage = cv.copyMakeBorder(image, border, border, border, border, cv.BORDER_CONSTANT, None, value=0)\n",
    "    paddedImage = cv.copyMakeBorder(image, border, border, border, border, cv.BORDER_REFLECT)\n",
    "    imageHeight = image.shape[0]\n",
    "    imageWidth = image.shape[1]\n",
    "    paddedImageHeight = paddedImage.shape[0]\n",
    "    paddedImageWidth = paddedImage.shape[1]\n",
    "    # The two below variables will be used to construct submatrices from the image with the same shape as the filter,\n",
    "    # in order to convolve them later on with the filter.\n",
    "    heightReduce = paddedImageHeight - imageHeight  # To avoid an overflow.\n",
    "    widthReduce = paddedImageWidth - imageWidth  # To avoid an overflow.\n",
    "    # Constructing the submatrices of the image.\n",
    "    imageSubMatrices = []\n",
    "    for i in range(0, paddedImageHeight - heightReduce):\n",
    "        for j in range(0, paddedImageWidth - widthReduce):\n",
    "            # To extract a submatrix which has the same shape as the image.\n",
    "            np.array(imageSubMatrices.append(\n",
    "                paddedImage[i:i+filter.shape[0], j:j+filter.shape[0]]))\n",
    "    imageSubMatrices = np.array(imageSubMatrices)\n",
    "    # The convolution process.\n",
    "    convolvedValues = []\n",
    "    for i in range(0, imageSubMatrices.shape[0]):\n",
    "        # Convoluting the image submatrices with the filter.\n",
    "        convolvedValues.append(int(np.sum(imageSubMatrices[i] * filter)))\n",
    "    convolvedValues = np.array(convolvedValues)\n",
    "    # To get the convoluted matrix from the array which contains the convolved values (a matrix with the same shape as the original image).\n",
    "    convolvedImage = convolvedValues.reshape((imageHeight, imageWidth))\n",
    "    return convolvedImage\n"
   ]
  },
  {
   "cell_type": "markdown",
   "metadata": {},
   "source": [
    "Gradient with respect to x :"
   ]
  },
  {
   "cell_type": "code",
   "execution_count": 140,
   "metadata": {},
   "outputs": [
    {
     "name": "stdout",
     "output_type": "stream",
     "text": [
      "Image gradient with respect to x is :\n",
      " [[  57   20  -41  195   29  149 -142  101]\n",
      " [   8   53   81   12   32   25   33    4]\n",
      " [   8   61   53    8    4    8   89  -28]\n",
      " [  24   20  -29  -16  -12  -25  -37  -13]\n",
      " [  20   24  -81  -85  -65 -117  -97   53]\n",
      " [  13   12   37 -126 -166  -40   65   24]\n",
      " [  16    4   57   97   73  113   97   21]\n",
      " [-146 -206 -130 -117  -85 -166 -182 -215]]\n"
     ]
    }
   ],
   "source": [
    "# Gradient with respect to x: G(x) = I(i+1,j) - I(i,j).\n",
    "xGradient = np.zeros((imageHeight, imageWidth), int)\n",
    "for i in range(0, imageHeight-1):\n",
    "    for j in range(0, imageWidth):\n",
    "        # G(x) = I(i+1,j) - I(i,j).\n",
    "        xGradient[i, j] = image[i+1, j]-image[i, j]\n",
    "\n",
    "# The last row of the xGradient will be the last row of the image times -1.\n",
    "xGradient[-1, :] = -image[-1, :]\n",
    "\n",
    "print('Image gradient with respect to x is :\\n', xGradient)\n",
    "# plt.imshow(xGradient,cmap='gray')\n"
   ]
  },
  {
   "cell_type": "markdown",
   "metadata": {},
   "source": [
    "Gradient with respect to y :"
   ]
  },
  {
   "cell_type": "code",
   "execution_count": 141,
   "metadata": {},
   "outputs": [
    {
     "name": "stdout",
     "output_type": "stream",
     "text": [
      "\n",
      "Image gradient with respect to y is :\n",
      " [[  12   41  -21  158 -137  121 -121  -53]\n",
      " [ -25  -20  215   -8  -17 -170  122 -154]\n",
      " [  20    8  146   12  -24 -162   93 -158]\n",
      " [  73    0  101    8  -20  -81  -24 -130]\n",
      " [  69  -49  114   12  -33  -93    0 -117]\n",
      " [  73 -154  110   32  -85  -73  150 -170]\n",
      " [  72 -129  -53   -8   41   32  109 -194]\n",
      " [  60  -76  -13  -32   81   16   33 -215]]\n"
     ]
    }
   ],
   "source": [
    "# Gradient with respect to y: G(y) = I(i,j+1) - I(i,j).\n",
    "yGradient = np.zeros((imageHeight, imageWidth), int)\n",
    "for j in range(0, imageWidth-1):\n",
    "    for i in range(0, imageHeight):\n",
    "        # G(y) = I(i,j+1) - I(i,j).\n",
    "        yGradient[i, j] = image[i, j+1]-image[i, j]\n",
    "\n",
    "# The last Column of the xGradient will be the last Column of the image times -1.\n",
    "yGradient[:, -1] = -image[:, -1]\n",
    "\n",
    "print('\\nImage gradient with respect to y is :\\n', yGradient)\n",
    "# plt.imshow(yGradient,cmap='gray')\n"
   ]
  },
  {
   "cell_type": "markdown",
   "metadata": {},
   "source": [
    "Gradient magnitude $Mod(G(i,j)) = \\sqrt{(G_x(i,j)^2+G_y(j,j)^2} $"
   ]
  },
  {
   "cell_type": "code",
   "execution_count": 142,
   "metadata": {},
   "outputs": [
    {
     "name": "stdout",
     "output_type": "stream",
     "text": [
      "\n",
      "Gradient magnitude :\n",
      " [[ 58.249  45.618  46.065 250.976 140.036 191.943 186.561 114.061]\n",
      " [ 26.249  56.648 229.752  14.422  36.235 171.828 126.384 154.052]\n",
      " [ 21.541  61.522 155.322  14.422  24.331 162.197 128.725 160.462]\n",
      " [ 76.844  20.    105.081  17.889  23.324  84.77   44.102 130.648]\n",
      " [ 71.84   54.562 139.846  85.843  72.897 149.459  97.    128.445]\n",
      " [ 74.148 154.467 116.056 130.    186.497  83.241 163.478 171.686]\n",
      " [ 73.756 129.062  77.833  97.329  83.726 117.444 145.911 195.133]\n",
      " [157.848 219.572 130.648 121.297 117.414 166.769 184.968 304.056]]\n"
     ]
    }
   ],
   "source": [
    "# Magnitude: mod(G(x,y)) = sqrt( g(x)^2 + g(y)^2 ).\n",
    "gradientMagnitude = np.round(np.sqrt(xGradient**2 + yGradient**2), 3)\n",
    "\n",
    "print('\\nGradient magnitude :\\n', gradientMagnitude)\n",
    "# plt.imshow(gradientMagnitude,cmap='gray')\n"
   ]
  },
  {
   "cell_type": "markdown",
   "metadata": {},
   "source": [
    "Gradient orientation $\\theta = tan^{-1}\\left( \\frac{G_y(i,j) }{G_x(j,j)}\\right) $  :"
   ]
  },
  {
   "cell_type": "code",
   "execution_count": 143,
   "metadata": {},
   "outputs": [
    {
     "name": "stdout",
     "output_type": "stream",
     "text": [
      "\n",
      "Gradient orientation :\n",
      " [[ 11.889  63.997  27.121  39.016 -78.048  39.079  40.435 -27.688]\n",
      " [-72.255 -20.674  69.356 -33.69  -27.979 -81.634  74.864 -88.512]\n",
      " [ 68.199   7.472  70.048  56.31  -80.538 -87.173  46.259  79.951]\n",
      " [ 71.801   0.    -73.98  -26.565  59.036  72.848  32.969  84.289]\n",
      " [ 73.836 -63.905 -54.605  -8.036  26.917  38.48   -0.    -65.63 ]\n",
      " [ 79.902 -85.544  71.409 -14.25   27.115  61.28   66.571 -81.964]\n",
      " [ 77.471 -88.224 -42.917  -4.715  29.32   15.811  48.334 -83.822]\n",
      " [-22.341  20.251   5.711  15.297 -43.62   -5.505 -10.277  45.   ]]\n"
     ]
    }
   ],
   "source": [
    "# Orientation: tan-1( g(y) / g(x) ).\n",
    "gradientOrientation = np.round(np.degrees(np.arctan(yGradient/xGradient)), 3)\n",
    "\n",
    "print('\\nGradient orientation :\\n', gradientOrientation)\n",
    "# plt.imshow(gradientOrientation,cmap='gray')\n"
   ]
  },
  {
   "cell_type": "markdown",
   "metadata": {},
   "source": [
    "# Image Binarization threshold = 70.\n",
    "1) Image binarization according to the magnitude (G(i,j)>70)  \n",
    "2) Image binarization according to the gray scale (I(x,y)>70)"
   ]
  },
  {
   "cell_type": "code",
   "execution_count": 144,
   "metadata": {},
   "outputs": [
    {
     "name": "stdout",
     "output_type": "stream",
     "text": [
      "\n",
      "Binarized image according to the magnitude :\n",
      " [[0 0 0 1 1 1 1 1]\n",
      " [0 0 1 0 0 1 1 1]\n",
      " [0 0 1 0 0 1 1 1]\n",
      " [1 0 1 0 0 1 0 1]\n",
      " [1 0 1 1 1 1 1 1]\n",
      " [1 1 1 1 1 1 1 1]\n",
      " [1 1 1 1 1 1 1 1]\n",
      " [1 1 1 1 1 1 1 1]]\n"
     ]
    },
    {
     "data": {
      "text/plain": [
       "<matplotlib.image.AxesImage at 0x7fb6e45fa430>"
      ]
     },
     "execution_count": 144,
     "metadata": {},
     "output_type": "execute_result"
    },
    {
     "data": {
      "image/png": "[encoded data removed]",
      "text/plain": [
       "<Figure size 432x288 with 1 Axes>"
      ]
     },
     "metadata": {
      "needs_background": "light"
     },
     "output_type": "display_data"
    }
   ],
   "source": [
    "# Image binarization according to the magnitude threshold = 70.\n",
    "binarizedImageMag = np.zeros((imageHeight, imageWidth), int)\n",
    "for i in range(0, imageHeight):\n",
    "    for j in range(0, imageWidth):\n",
    "        if(gradientMagnitude[i, j] > 70):\n",
    "            # If the magnitude is greater than 70 then set the value of the pixel to 1.\n",
    "            binarizedImageMag[i, j] = 1\n",
    "print('\\nBinarized image according to the magnitude :\\n', binarizedImageMag)\n",
    "plt.imshow(binarizedImageMag, cmap='gray', vmin=0, vmax=1)\n"
   ]
  },
  {
   "cell_type": "code",
   "execution_count": 145,
   "metadata": {},
   "outputs": [
    {
     "name": "stdout",
     "output_type": "stream",
     "text": [
      "\n",
      "Binarized image according to the gray scale :\n",
      " [[0 0 0 0 1 0 1 0]\n",
      " [0 0 0 1 1 1 0 1]\n",
      " [0 1 1 1 1 1 0 1]\n",
      " [1 1 1 1 1 1 1 1]\n",
      " [1 1 1 1 1 1 1 1]\n",
      " [1 1 0 1 1 1 0 1]\n",
      " [1 1 1 0 0 0 1 1]\n",
      " [1 1 1 1 1 1 1 1]]\n"
     ]
    },
    {
     "data": {
      "text/plain": [
       "<matplotlib.image.AxesImage at 0x7fb6e45cd3a0>"
      ]
     },
     "execution_count": 145,
     "metadata": {},
     "output_type": "execute_result"
    },
    {
     "data": {
      "image/png": "[encoded data removed]",
      "text/plain": [
       "<Figure size 432x288 with 1 Axes>"
      ]
     },
     "metadata": {
      "needs_background": "light"
     },
     "output_type": "display_data"
    }
   ],
   "source": [
    "# Image binarization according to the gray scale threshold = 70.\n",
    "binarizedImageGra = np.zeros((imageHeight, imageWidth), int)\n",
    "for i in range(0, imageHeight):\n",
    "    for j in range(0, imageWidth):\n",
    "        if(image[i, j] > 70):\n",
    "            # If the gray scale is greater than 70 then set the value of the pixel to 1.\n",
    "            binarizedImageGra[i, j] = 1\n",
    "print('\\nBinarized image according to the gray scale :\\n', binarizedImageGra)\n",
    "plt.imshow(binarizedImageGra, cmap='gray', vmin=0, vmax=1)\n"
   ]
  },
  {
   "cell_type": "markdown",
   "metadata": {},
   "source": [
    "# Observations and conclusions about the two binarizations (according to the magnitude and the gray scale):\n",
    "Binarization according to the magnitude will make the outlines visible or in other words it will extract the outlines of the object of the image."
   ]
  },
  {
   "cell_type": "code",
   "execution_count": 146,
   "metadata": {},
   "outputs": [
    {
     "data": {
      "text/plain": [
       "<matplotlib.image.AxesImage at 0x7fb6e4549400>"
      ]
     },
     "execution_count": 146,
     "metadata": {},
     "output_type": "execute_result"
    },
    {
     "data": {
      "image/png": "[encoded data removed]",
      "text/plain": [
       "<Figure size 432x288 with 2 Axes>"
      ]
     },
     "metadata": {
      "needs_background": "light"
     },
     "output_type": "display_data"
    }
   ],
   "source": [
    "# Binarization according to the magnitude.\n",
    "plt.subplot(121);plt.title(\"Magnitude bin\");plt.imshow(binarizedImageMag, cmap='gray')\n",
    "# Binarization according to the gray scales.\n",
    "plt.subplot(122);plt.title(\"Gray scale bin\");plt.imshow(binarizedImageGra, cmap='gray')\n"
   ]
  },
  {
   "cell_type": "markdown",
   "metadata": {},
   "source": [
    "# Dilation with a diamond structring element"
   ]
  },
  {
   "cell_type": "code",
   "execution_count": 147,
   "metadata": {},
   "outputs": [
    {
     "data": {
      "text/plain": [
       "<matplotlib.image.AxesImage at 0x7fb6e452fd00>"
      ]
     },
     "execution_count": 147,
     "metadata": {},
     "output_type": "execute_result"
    },
    {
     "data": {
      "image/png": "[encoded data removed]",
      "text/plain": [
       "<Figure size 432x288 with 1 Axes>"
      ]
     },
     "metadata": {
      "needs_background": "light"
     },
     "output_type": "display_data"
    }
   ],
   "source": [
    "# Image dilation with a diamond structring element.\n",
    "# Creating the structuring element.\n",
    "dilationStructuringElt = np.full((3, 3), 1)\n",
    "\n",
    "# In oreder to get the same results as the opencv we have to use BORDER_REFLECT instead of BORDER_CONSTANT.\n",
    "paddedBinImage = cv.copyMakeBorder(\n",
    "    binarizedImageMag, 1, 1, 1, 1, cv.BORDER_REFLECT)\n",
    "\n",
    "# Constructing binarizedSubMatrices from the padded image with the same size as the structring element.\n",
    "binarizedSubMatrices = []\n",
    "for i in range(0, paddedBinImage.shape[0] - 2):\n",
    "    for j in range(0, paddedBinImage.shape[1] - 2):\n",
    "        np.array(binarizedSubMatrices.append(\n",
    "            paddedBinImage[i:i+dilationStructuringElt.shape[0], j:j+dilationStructuringElt.shape[0]]))\n",
    "binarizedSubMatrices = np.array(binarizedSubMatrices)\n",
    "\n",
    "# Dilation process \"or\".\n",
    "dilatedValues = np.array([])\n",
    "for i in range(0, binarizedSubMatrices.shape[0]):\n",
    "    if(np.any(binarizedSubMatrices[i] == dilationStructuringElt)):\n",
    "        dilatedValues = np.append(dilatedValues, 1)\n",
    "    else:\n",
    "        dilatedValues = np.append(dilatedValues, 0)\n",
    "\n",
    "# To turn the one dimensional array into a two dimensional array with the same shape as the original image.\n",
    "dilatedImage = dilatedValues.reshape((imageHeight, imageWidth))\n",
    "\n",
    "plt.imshow(dilatedImage, cmap='gray')\n"
   ]
  },
  {
   "cell_type": "markdown",
   "metadata": {},
   "source": [
    "# Erosion with a square structring element"
   ]
  },
  {
   "cell_type": "code",
   "execution_count": 148,
   "metadata": {},
   "outputs": [
    {
     "data": {
      "text/plain": [
       "<matplotlib.image.AxesImage at 0x7fb6e447ebb0>"
      ]
     },
     "execution_count": 148,
     "metadata": {},
     "output_type": "execute_result"
    },
    {
     "data": {
      "image/png": "[encoded data removed]",
      "text/plain": [
       "<Figure size 432x288 with 1 Axes>"
      ]
     },
     "metadata": {
      "needs_background": "light"
     },
     "output_type": "display_data"
    }
   ],
   "source": [
    "# Image erosion with a square structring element.\n",
    "erosionStructuringElt = np.full((3, 3), 1)  # Creating the structuring element.\n",
    "\n",
    "# In oreder to get the same results as the opencv we have to use BORDER_REFLECT instead of BORDER_CONSTANT.\n",
    "paddedBinImage = cv.copyMakeBorder(\n",
    "    binarizedImageMag, 1, 1, 1, 1, cv.BORDER_REFLECT)\n",
    "\n",
    "# Constructing binarizedSubMatrices from the padded image with the same size as the structring element.\n",
    "binarizedSubMatrices = []\n",
    "for i in range(0, paddedBinImage.shape[0] - 2):\n",
    "    for j in range(0, paddedBinImage.shape[1] - 2):\n",
    "        np.array(binarizedSubMatrices.append(\n",
    "            paddedBinImage[i:i+erosionStructuringElt.shape[0], j:j+erosionStructuringElt.shape[0]]))\n",
    "binarizedSubMatrices = np.array(binarizedSubMatrices)\n",
    "# Erosion process \"and\".\n",
    "erodedValues = []\n",
    "for i in range(0, binarizedSubMatrices.shape[0]):\n",
    "    if(np.all(binarizedSubMatrices[i] == erosionStructuringElt)):\n",
    "        erodedValues = np.append(erodedValues, 1)\n",
    "    else:\n",
    "         erodedValues = np.append(erodedValues, 0)\n",
    "\n",
    "# To turn the one dimensional array into a two dimensional array with the same shape as the original image.\n",
    "erodedImage = erodedValues.reshape((imageHeight, imageWidth))\n",
    "plt.imshow(erodedImage, cmap='gray')\n"
   ]
  },
  {
   "cell_type": "markdown",
   "metadata": {},
   "source": [
    "# Comparison with opencv results\n",
    "As we can see the manual results are exactly the same as opencv results (and in oreder to get the same results we have to use the same padding values in our case we chose the cv.BORDER_REFLECT which is the default border used by opencv built in functions)."
   ]
  },
  {
   "cell_type": "code",
   "execution_count": 149,
   "metadata": {},
   "outputs": [
    {
     "data": {
      "text/plain": [
       "<matplotlib.image.AxesImage at 0x7fb6e43e8910>"
      ]
     },
     "execution_count": 149,
     "metadata": {},
     "output_type": "execute_result"
    },
    {
     "data": {
      "image/png": "[encoded data removed]",
      "text/plain": [
       "<Figure size 720x1080 with 4 Axes>"
      ]
     },
     "metadata": {
      "needs_background": "light"
     },
     "output_type": "display_data"
    }
   ],
   "source": [
    "# Erosion with the opencv built in function.\n",
    "imageER = cv.erode(binarizedImageMag.astype('uint8'),np.ones((3, 3), np.uint8), iterations=1)\n",
    "# Dilation with the opencv built in function.\n",
    "imageDI = cv.dilate(binarizedImageMag.astype('uint8'),np.ones((3, 3), np.uint8), iterations=1)\n",
    "\n",
    "plt.figure(figsize=(10,15))\n",
    "plt.subplot(141);plt.title('Implemented Dilation');plt.imshow(dilatedImage, cmap='gray')\n",
    "plt.subplot(142);plt.title('Opencv Dilation');plt.imshow(imageDI, cmap='gray')\n",
    "plt.subplot(143);plt.title('Implemented Erosion');plt.imshow(erodedImage, cmap='gray')\n",
    "plt.subplot(144);plt.title('Opencv Erosion');plt.imshow(imageER, cmap='gray')\n"
   ]
  },
  {
   "cell_type": "markdown",
   "metadata": {},
   "source": [
    "# Derivative with Prewitt and Sobel filters\n",
    "First we have to create Prewitt & Sobel filters with respect to x & y"
   ]
  },
  {
   "cell_type": "code",
   "execution_count": 150,
   "metadata": {},
   "outputs": [],
   "source": [
    "# Prewitt\n",
    "# Horizontal prewitt mask.\n",
    "xPrewittMask = np.array([[-1, 0, 1], [-1, 0, 1], [-1, 0, 1]])\n",
    "# Vertical prewitt mask.\n",
    "yPrewittMask = np.array([[-1, -1, -1], [0, 0, 0], [1, 1, 1]])\n",
    "\n",
    "# Sobel\n",
    "# Horizontal Sobel mask.\n",
    "xSobelMask = np.array([[-1, 0, 1], [-2, 0, 2], [-1, 0, 1]])\n",
    "# Vertical Sobel mask.\n",
    "ySobelMask = np.array([[-1, -2, -1], [0, 0, 0], [1, 2, 1]])\n"
   ]
  },
  {
   "cell_type": "markdown",
   "metadata": {},
   "source": [
    "Derivative using Prewitt filter with respect to x :"
   ]
  },
  {
   "cell_type": "code",
   "execution_count": 151,
   "metadata": {},
   "outputs": [
    {
     "name": "stdout",
     "output_type": "stream",
     "text": [
      "Prewitt gradient with respect to x :\n",
      " [[  -1   61  235  481   17 -219  -48 -120]\n",
      " [   7   36  369  502  -16 -389 -117   94]\n",
      " [  68   56  450  474  -49 -474 -222  191]\n",
      " [ 162  121  320  393  -45 -413 -267   69]\n",
      " [ 215   12  122  377  -86 -385 -121  126]\n",
      " [ 214 -118 -161  207  -41 -211  125  259]\n",
      " [ 205 -154 -315   36   29   12  267  292]\n",
      " [ 192  -89 -360 -151  131  267  239  175]]\n"
     ]
    },
    {
     "data": {
      "text/plain": [
       "<matplotlib.image.AxesImage at 0x7fb6e4304940>"
      ]
     },
     "execution_count": 151,
     "metadata": {},
     "output_type": "execute_result"
    },
    {
     "data": {
      "image/png": "[encoded data removed]",
      "text/plain": [
       "<Figure size 432x288 with 1 Axes>"
      ]
     },
     "metadata": {
      "needs_background": "light"
     },
     "output_type": "display_data"
    }
   ],
   "source": [
    "xPrewittGradient = convolution(image,xPrewittMask,1)\n",
    "print('Prewitt gradient with respect to x :\\n',xPrewittGradient)\n",
    "plt.imshow(xPrewittGradient,cmap='gray')"
   ]
  },
  {
   "cell_type": "markdown",
   "metadata": {},
   "source": [
    "Derivative using Prewitt filter with respect to y :"
   ]
  },
  {
   "cell_type": "code",
   "execution_count": 152,
   "metadata": {},
   "outputs": [
    {
     "name": "stdout",
     "output_type": "stream",
     "text": [
      "Prewitt gradient with respect to y :\n",
      " [[ 134   36  174  183  373   36  108   60]\n",
      " [ 203  178  320  308  442  126  170  101]\n",
      " [ 146  264  268  190   89  191  131   74]\n",
      " [ 145  137   97    8  -33   27   -6  -30]\n",
      " [ 132  -22 -167 -288 -320 -353 -236  -54]\n",
      " [ 102   25 -219 -486 -599 -420 -112  122]\n",
      " [  74  139   81  -28  -49  142  280  252]\n",
      " [  36   77  158  227  283  283  231  139]]\n"
     ]
    },
    {
     "data": {
      "text/plain": [
       "<matplotlib.image.AxesImage at 0x7fb6e42db850>"
      ]
     },
     "execution_count": 152,
     "metadata": {},
     "output_type": "execute_result"
    },
    {
     "data": {
      "image/png": "[encoded data removed]",
      "text/plain": [
       "<Figure size 432x288 with 1 Axes>"
      ]
     },
     "metadata": {
      "needs_background": "light"
     },
     "output_type": "display_data"
    }
   ],
   "source": [
    "yPrewittGradient = convolution(image,yPrewittMask,1)\n",
    "print('Prewitt gradient with respect to y :\\n',yPrewittGradient)\n",
    "plt.imshow(yPrewittGradient,cmap='gray')"
   ]
  },
  {
   "cell_type": "markdown",
   "metadata": {},
   "source": [
    "Derivative using Sobel filter with respect to x :"
   ]
  },
  {
   "cell_type": "code",
   "execution_count": 153,
   "metadata": {},
   "outputs": [
    {
     "name": "stdout",
     "output_type": "stream",
     "text": [
      "Sobel gradient with respect to x :\n",
      " [[  11  114  255  618   38 -235  -48 -241]\n",
      " [ -18   -9  564  709  -41 -576 -165  216]\n",
      " [  88   84  604  632  -61 -660 -291  284]\n",
      " [ 235  194  421  502  -57 -514 -372   45]\n",
      " [ 284   32  187  503 -107 -511 -214  126]\n",
      " [ 287 -199 -205  349  -94 -369  202  409]\n",
      " [ 277 -211 -497  -25   62   85  408  401]\n",
      " [ 252 -105 -449 -196  180  364  288  208]]\n"
     ]
    },
    {
     "data": {
      "text/plain": [
       "<matplotlib.image.AxesImage at 0x7fb6e42b3760>"
      ]
     },
     "execution_count": 153,
     "metadata": {},
     "output_type": "execute_result"
    },
    {
     "data": {
      "image/png": "[encoded data removed]",
      "text/plain": [
       "<Figure size 432x288 with 1 Axes>"
      ]
     },
     "metadata": {
      "needs_background": "light"
     },
     "output_type": "display_data"
    }
   ],
   "source": [
    "xSobelGradient = convolution(image,xSobelMask,1)\n",
    "print('Sobel gradient with respect to x :\\n',xSobelGradient)\n",
    "plt.imshow(xSobelGradient,cmap='gray')"
   ]
  },
  {
   "cell_type": "markdown",
   "metadata": {},
   "source": [
    "Derivative using Sobel filter with respect to y :"
   ]
  },
  {
   "cell_type": "code",
   "execution_count": 154,
   "metadata": {},
   "outputs": [
    {
     "name": "stdout",
     "output_type": "stream",
     "text": [
      "Sobel gradient with respect to y :\n",
      " [[ 191   56  133  378  402  185  -34  161]\n",
      " [ 268  251  360  515  503  300   61  206]\n",
      " [ 162  378  402  210  125  224  253   50]\n",
      " [ 177  218  121    0  -41   10   46  -71]\n",
      " [ 176   22 -277 -389 -397 -495 -370  -14]\n",
      " [ 135   61 -263 -697 -830 -577 -144  199]\n",
      " [ 103  155  175  -57 -142  215  442  297]\n",
      " [  52   81  215  324  356  396  328  160]]\n"
     ]
    },
    {
     "data": {
      "text/plain": [
       "<matplotlib.image.AxesImage at 0x7fb6e420d670>"
      ]
     },
     "execution_count": 154,
     "metadata": {},
     "output_type": "execute_result"
    },
    {
     "data": {
      "image/png": "[encoded data removed]",
      "text/plain": [
       "<Figure size 432x288 with 1 Axes>"
      ]
     },
     "metadata": {
      "needs_background": "light"
     },
     "output_type": "display_data"
    }
   ],
   "source": [
    "ySobelGradient = convolution(image,ySobelMask,1)\n",
    "print('Sobel gradient with respect to y :\\n',ySobelGradient)\n",
    "plt.imshow(ySobelGradient,cmap='gray')"
   ]
  },
  {
   "cell_type": "markdown",
   "metadata": {},
   "source": [
    "# Comparison with opencv results (Prewitt & Sobel filtring)\n",
    "As we can see the manual results are the same as opencv results except for \"the first and the last row in the gradient with respect to x also the first and the last column with respect to y\", which are different where in opencv results all the pixels of those rows and columns have one light gray scale in contrast the manual results those pixels have different gray scales.\n",
    "(and in oreder to get the same results we have to use the same padding values in our case we chose the cv.BORDER_REFLECT which is the default border used by opencv built in functions)."
   ]
  },
  {
   "cell_type": "code",
   "execution_count": 155,
   "metadata": {},
   "outputs": [
    {
     "data": {
      "text/plain": [
       "<matplotlib.image.AxesImage at 0x7fb6e404ea30>"
      ]
     },
     "execution_count": 155,
     "metadata": {},
     "output_type": "execute_result"
    },
    {
     "data": {
      "image/png": "[encoded data removed]",
      "text/plain": [
       "<Figure size 720x576 with 8 Axes>"
      ]
     },
     "metadata": {
      "needs_background": "light"
     },
     "output_type": "display_data"
    }
   ],
   "source": [
    "Gx_Prewitt_cv=cv.filter2D(image,-1,kernel=xPrewittMask)\n",
    "Gy_Prewitt_cv=cv.filter2D(image,-1,kernel=yPrewittMask)\n",
    "Gx_Sobel_cv=cv.filter2D(image,-1,kernel=xSobelMask)\n",
    "Gy_Sobel_cv=cv.filter2D(image,-1,kernel=ySobelMask)\n",
    "\n",
    "plt.figure(figsize=(10,8))\n",
    "# Opencv gradient.\n",
    "plt.subplot(241);plt.title('Opencv xPrewitt');plt.imshow(Gx_Prewitt_cv,cmap='gray')\n",
    "plt.subplot(242);plt.title('Opencv yPrewitt');plt.imshow(Gy_Prewitt_cv,cmap='gray')\n",
    "plt.subplot(243);plt.title('Opencv xSobel');plt.imshow(Gx_Sobel_cv,cmap='gray')\n",
    "plt.subplot(244);plt.title('Opencv ySobel');plt.imshow(Gy_Sobel_cv,cmap='gray')\n",
    "# Manually calculated gradient.\n",
    "plt.subplot(245);plt.title('Implemented xPrewitt');plt.imshow(xPrewittGradient,cmap='gray')\n",
    "plt.subplot(246);plt.title('Implemented yPrewitt');plt.imshow(yPrewittGradient,cmap='gray')\n",
    "plt.subplot(247);plt.title('Implemented xSobel');plt.imshow(xSobelGradient,cmap='gray')\n",
    "plt.subplot(248);plt.title('Implemented ySobel');plt.imshow(ySobelGradient,cmap='gray') "
   ]
  },
  {
   "cell_type": "markdown",
   "metadata": {},
   "source": [
    "# Second derivative (Laplacian)\n",
    "Convolution with Laplacian mask."
   ]
  },
  {
   "cell_type": "code",
   "execution_count": 156,
   "metadata": {},
   "outputs": [
    {
     "name": "stdout",
     "output_type": "stream",
     "text": [
      "Second derivative :\n",
      " [[  69   49 -103  374 -266  407 -384  222]\n",
      " [ -74   38  357 -406   -6 -277  467 -219]\n",
      " [  20   -4  110 -138  -64 -155  311 -125]\n",
      " [  89 -114   19 -117  -44  -94  -69   39]\n",
      " [  65 -114  111 -171  -98 -152   33   66]\n",
      " [  66 -239  382 -119 -218   89  385 -179]\n",
      " [  75 -209   96  268  288  144  109 -112]\n",
      " [  44 -140    6 -116   40 -178  -80  -54]]\n"
     ]
    },
    {
     "data": {
      "text/plain": [
       "<matplotlib.image.AxesImage at 0x7fb6e3f81910>"
      ]
     },
     "execution_count": 156,
     "metadata": {},
     "output_type": "execute_result"
    },
    {
     "data": {
      "image/png": "[encoded data removed]",
      "text/plain": [
       "<Figure size 432x288 with 1 Axes>"
      ]
     },
     "metadata": {
      "needs_background": "light"
     },
     "output_type": "display_data"
    }
   ],
   "source": [
    "# Laplacian mask:\n",
    "laplacianMask = np.array([[0,1,0],[1,-4,1],[0,1,0]]) \n",
    "secondDerivative = convolution(image,laplacianMask,1)\n",
    "print('Second derivative :\\n',secondDerivative)\n",
    "plt.imshow(secondDerivative,cmap='gray')\n"
   ]
  },
  {
   "cell_type": "markdown",
   "metadata": {},
   "source": [
    "# Comparison with opencv second derivative\n",
    "As we can see the manual results are the same as opencv results"
   ]
  },
  {
   "cell_type": "code",
   "execution_count": 157,
   "metadata": {},
   "outputs": [
    {
     "data": {
      "text/plain": [
       "<matplotlib.image.AxesImage at 0x7fb6e3ecd940>"
      ]
     },
     "execution_count": 157,
     "metadata": {},
     "output_type": "execute_result"
    },
    {
     "data": {
      "image/png": "[encoded data removed]",
      "text/plain": [
       "<Figure size 432x288 with 2 Axes>"
      ]
     },
     "metadata": {
      "needs_background": "light"
     },
     "output_type": "display_data"
    }
   ],
   "source": [
    "second_Derivative_cv=cv.filter2D(image,-1,kernel=laplacianMask)\n",
    "# Opencv second derivative.\n",
    "plt.subplot(121);plt.title('Opencv 2nd derivative');plt.imshow(second_Derivative_cv,cmap='gray')\n",
    "# Manually calculated second derivative.\n",
    "plt.subplot(122);plt.title('Implemented 2nd derivative');plt.imshow(secondDerivative,cmap='gray')"
   ]
  },
  {
   "cell_type": "markdown",
   "metadata": {},
   "source": [
    "# Mean filtering :"
   ]
  },
  {
   "cell_type": "code",
   "execution_count": 158,
   "metadata": {},
   "outputs": [],
   "source": [
    "#Mean filter\n",
    "meanMask = np.ones((3,3)) * (1/9)"
   ]
  },
  {
   "cell_type": "code",
   "execution_count": 159,
   "metadata": {},
   "outputs": [
    {
     "name": "stdout",
     "output_type": "stream",
     "text": [
      "Mean filtered image:\n",
      " [[ 18  25  51 111 133 143 105 100]\n",
      " [ 41  45  87 146 182 157 124 111]\n",
      " [ 72  78 136 187 233 182 150 126]\n",
      " [ 96 109 163 202 237 195 157 127]\n",
      " [119 120 158 177 204 167 138 125]\n",
      " [138 125 131 117 131 112 117 131]\n",
      " [153 136 124  88  96  97 130 160]\n",
      " [161 152 133  85  91 112 161 188]]\n"
     ]
    },
    {
     "data": {
      "text/plain": [
       "<matplotlib.image.AxesImage at 0x7fb6e3ea4310>"
      ]
     },
     "execution_count": 159,
     "metadata": {},
     "output_type": "execute_result"
    },
    {
     "data": {
      "image/png": "[encoded data removed]",
      "text/plain": [
       "<Figure size 432x288 with 1 Axes>"
      ]
     },
     "metadata": {
      "needs_background": "light"
     },
     "output_type": "display_data"
    }
   ],
   "source": [
    "# Mean filtering.\n",
    "# We have a 3*3 window so the window coefficient equals 1/3^2 = 1/9.\n",
    "meanFiltering =convolution(image,meanMask,1)\n",
    "print('Mean filtered image:\\n',meanFiltering)\n",
    "plt.imshow(meanFiltering,cmap='gray')"
   ]
  },
  {
   "cell_type": "markdown",
   "metadata": {},
   "source": [
    "# Comparison with opencv results (mean filtering) :\n",
    "As we can see there is a small difference between the two results which is barely visible (there are some pixels in the manually calculated results which are lighter than the ones in the opencv results)."
   ]
  },
  {
   "cell_type": "code",
   "execution_count": 160,
   "metadata": {},
   "outputs": [
    {
     "data": {
      "text/plain": [
       "<matplotlib.image.AxesImage at 0x7fb6e3dc2730>"
      ]
     },
     "execution_count": 160,
     "metadata": {},
     "output_type": "execute_result"
    },
    {
     "data": {
      "image/png": "[encoded data removed]",
      "text/plain": [
       "<Figure size 432x288 with 2 Axes>"
      ]
     },
     "metadata": {
      "needs_background": "light"
     },
     "output_type": "display_data"
    }
   ],
   "source": [
    "# Opencv mean filtering.\n",
    "imageMean = cv.blur(image,(3,3))\n",
    "# Opencv results.\n",
    "plt.subplot(121);plt.title('Opencv mean filtring');plt.imshow(imageMean,cmap='gray')\n",
    "# Manually calculated results\n",
    "plt.subplot(122);plt.title('Implemented mean filtring');plt.imshow(meanFiltering,cmap='gray')"
   ]
  },
  {
   "cell_type": "markdown",
   "metadata": {},
   "source": [
    "# Gaussian Filtering :\n",
    "\n",
    "Gauss filter"
   ]
  },
  {
   "cell_type": "code",
   "execution_count": 161,
   "metadata": {},
   "outputs": [],
   "source": [
    "gaussianMask = np.array([[0.36,0.61,0.37],\n",
    "                        [0.61,1,0.60],\n",
    "                        [0.37,0.60,0.36]\n",
    "                       ])"
   ]
  },
  {
   "cell_type": "code",
   "execution_count": 162,
   "metadata": {},
   "outputs": [
    {
     "name": "stdout",
     "output_type": "stream",
     "text": [
      "Gaussian filtered image:\n",
      " [[ 18  25  51 111 133 143 105 100]\n",
      " [ 41  45  87 146 182 157 124 111]\n",
      " [ 72  78 136 187 233 182 150 126]\n",
      " [ 96 109 163 202 237 195 157 127]\n",
      " [119 120 158 177 204 167 138 125]\n",
      " [138 125 131 117 131 112 117 131]\n",
      " [153 136 124  88  96  97 130 160]\n",
      " [161 152 133  85  91 112 161 188]]\n"
     ]
    },
    {
     "data": {
      "text/plain": [
       "<matplotlib.image.AxesImage at 0x7fb6e3dae6a0>"
      ]
     },
     "execution_count": 162,
     "metadata": {},
     "output_type": "execute_result"
    },
    {
     "data": {
      "image/png": "[encoded data removed]",
      "text/plain": [
       "<Figure size 432x288 with 1 Axes>"
      ]
     },
     "metadata": {
      "needs_background": "light"
     },
     "output_type": "display_data"
    }
   ],
   "source": [
    "gaussFiltering = convolution(image,gaussianMask,1)\n",
    "print('Gaussian filtered image:\\n',meanFiltering)\n",
    "plt.imshow(gaussFiltering,cmap='gray')"
   ]
  },
  {
   "cell_type": "markdown",
   "metadata": {},
   "source": [
    "# Comparison with opencv results (Gaussian filtering):\n",
    "As we can see the results are almost the same (there are some few different pixels)"
   ]
  },
  {
   "cell_type": "code",
   "execution_count": 163,
   "metadata": {},
   "outputs": [
    {
     "data": {
      "text/plain": [
       "<matplotlib.image.AxesImage at 0x7fb6e3cb95b0>"
      ]
     },
     "execution_count": 163,
     "metadata": {},
     "output_type": "execute_result"
    },
    {
     "data": {
      "image/png": "[encoded data removed]",
      "text/plain": [
       "<Figure size 432x288 with 2 Axes>"
      ]
     },
     "metadata": {
      "needs_background": "light"
     },
     "output_type": "display_data"
    }
   ],
   "source": [
    "# Gaussian filtering with opencv.\n",
    "imageGauss= cv.GaussianBlur(image, (3,3),cv.BORDER_REFLECT)\n",
    "# Opencv results.\n",
    "plt.subplot(121);plt.title('Opencv gaussian filtring');plt.imshow(imageGauss,cmap='gray')\n",
    "# Manually calculated results\n",
    "plt.subplot(122);plt.title('Implemented gaussian filtring');plt.imshow(gaussFiltering,cmap='gray')"
   ]
  },
  {
   "cell_type": "markdown",
   "metadata": {},
   "source": [
    "# Median filtring"
   ]
  },
  {
   "cell_type": "code",
   "execution_count": 164,
   "metadata": {},
   "outputs": [
    {
     "name": "stdout",
     "output_type": "stream",
     "text": [
      "[[ 12.  12.  32.  53. 190. 174.  53.  53.]\n",
      " [ 57.  53.  53. 190. 219. 190. 154. 154.]\n",
      " [ 65.  73. 146. 227. 235. 219. 154. 154.]\n",
      " [ 85.  97. 146. 239. 239. 227. 154. 130.]\n",
      " [117. 117. 146. 178. 231. 178. 130. 130.]\n",
      " [130. 117. 146. 117. 146.  93. 117. 117.]\n",
      " [146. 130. 130.  85.  93.  85. 166. 182.]\n",
      " [146. 146. 130.  85.  85.  85. 182. 194.]]\n"
     ]
    },
    {
     "data": {
      "text/plain": [
       "<matplotlib.image.AxesImage at 0x7fb6e3ca6b80>"
      ]
     },
     "execution_count": 164,
     "metadata": {},
     "output_type": "execute_result"
    },
    {
     "data": {
      "image/png": "[encoded data removed]",
      "text/plain": [
       "<Figure size 432x288 with 1 Axes>"
      ]
     },
     "metadata": {
      "needs_background": "light"
     },
     "output_type": "display_data"
    }
   ],
   "source": [
    "paddedImage = cv.copyMakeBorder(image, 1, 1, 1, 1, cv.BORDER_REFLECT)\n",
    "heightLimit = paddedImage.shape[0] - 2\n",
    "widthLimit = paddedImage.shape[1] - 2\n",
    "imageSubMatrices = []\n",
    "for i in range(0, heightLimit):\n",
    "    for j in range(0, widthLimit):\n",
    "        # To extract a submatrix which has the same shape as the image.\n",
    "        np.array(imageSubMatrices.append(\n",
    "            paddedImage[i:i+3, j:j+3]))\n",
    "imageSubMatrices = np.array(imageSubMatrices)\n",
    "\n",
    "medianValues=np.array([])\n",
    "for i in range(0,imageSubMatrices.shape[0]):\n",
    "    matrix = imageSubMatrices[i].flatten()\n",
    "    matrix.sort()\n",
    "    medianValues = np.append(medianValues, matrix[4])\n",
    "\n",
    "medianFiltering = medianValues.reshape((imageHeight,imageWidth))\n",
    "print(medianFiltering)\n",
    "plt.imshow(medianFiltering,cmap='gray')"
   ]
  },
  {
   "cell_type": "markdown",
   "metadata": {},
   "source": [
    "# Comparison with opencv results (median filtering) :\n",
    "As we can see the results are exactly the same."
   ]
  },
  {
   "cell_type": "code",
   "execution_count": 165,
   "metadata": {},
   "outputs": [
    {
     "data": {
      "text/plain": [
       "<matplotlib.image.AxesImage at 0x7fb6e3c2d3a0>"
      ]
     },
     "execution_count": 165,
     "metadata": {},
     "output_type": "execute_result"
    },
    {
     "data": {
      "image/png": "[encoded data removed]",
      "text/plain": [
       "<Figure size 432x288 with 2 Axes>"
      ]
     },
     "metadata": {
      "needs_background": "light"
     },
     "output_type": "display_data"
    }
   ],
   "source": [
    "imageMed = cv.medianBlur(image.astype('uint8'),3)\n",
    "# Opencv results.\n",
    "plt.subplot(121);plt.title('Opencv median filtring');plt.imshow(imageMed,cmap='gray')\n",
    "# Manually calculated results\n",
    "plt.subplot(122);plt.title('Implemented median filtring');plt.imshow(medianFiltering,cmap='gray')"
   ]
  }
 ],
 "metadata": {
  "interpreter": {
   "hash": "916dbcbb3f70747c44a77c7bcd40155683ae19c65e1c03b4aa3499c5328201f1"
  },
  "kernelspec": {
   "display_name": "Python 3.8.10 64-bit",
   "language": "python",
   "name": "python3"
  },
  "language_info": {
   "codemirror_mode": {
    "name": "ipython",
    "version": 3
   },
   "file_extension": ".py",
   "mimetype": "text/x-python",
   "name": "python",
   "nbconvert_exporter": "python",
   "pygments_lexer": "ipython3",
   "version": "3.10.4"
  },
  "orig_nbformat": 4
 },
 "nbformat": 4,
 "nbformat_minor": 2
}
