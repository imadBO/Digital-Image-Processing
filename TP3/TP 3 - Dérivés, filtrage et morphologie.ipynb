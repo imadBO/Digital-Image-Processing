{
 "cells": [
  {
   "cell_type": "markdown",
   "metadata": {
    "id": "um2QXkfLXlXS"
   },
   "source": [
    "# TP à rendre 3 Gradient, filtrage et morphologie\n",
    "Dans ce TP, nous aimerions appliquer une analyse d'image en efféctuant:\n",
    "- un calcul basique de gradient horizontal et vertical,\n",
    "- un calcul du module et de l'orientation du gradient,\n",
    "- un calcul du gradient en utilisant une convolution avec les filtres Sobel et Prewitt,\n",
    "- un calcul du Laplacien du Gaussien (dérivée seconde de l'image)\n",
    "- un filtrage de l'image avec un filtre médian, gaussien et un filtre moyen et comparer la difference,\n",
    "- un seuillage de l'image,\n",
    "- des morphologies mathématiques (dilatation et érosion),\n",
    "L'objectif est d'observer le résultat pour chaque opération et de comparer les differentes méthodes."
   ]
  },
  {
   "cell_type": "code",
   "execution_count": 3,
   "metadata": {
    "id": "KCfoD-G6XlXV"
   },
   "outputs": [],
   "source": [
    "import numpy as np\n",
    "import cv2 as cv\n",
    "import matplotlib.pyplot as plt\n",
    "import matplotlib as mpl"
   ]
  },
  {
   "cell_type": "code",
   "execution_count": 57,
   "metadata": {
    "colab": {
     "base_uri": "https://localhost:8080/"
    },
    "id": "1KMYM1WKXlXX",
    "outputId": "3eda33cf-8be5-4be6-f7df-9abc73b7efd3"
   },
   "outputs": [
    {
     "data": {
      "text/plain": [
       "array([[  0.,  12.,  53.,  32., 190.,  53., 174.,  53.],\n",
       "       [ 57.,  32.,  12., 227., 219., 202.,  32., 154.],\n",
       "       [ 65.,  85.,  93., 239., 251., 227.,  65., 158.],\n",
       "       [ 73., 146., 146., 247., 255., 235., 154., 130.],\n",
       "       [ 97., 166., 117., 231., 243., 210., 117., 117.],\n",
       "       [117., 190.,  36., 146., 178.,  93.,  20., 170.],\n",
       "       [130., 202.,  73.,  20.,  12.,  53.,  85., 194.],\n",
       "       [146., 206., 130., 117.,  85., 166., 182., 215.]])"
      ]
     },
     "execution_count": 57,
     "metadata": {},
     "output_type": "execute_result"
    }
   ],
   "source": [
    "# préparation de l'image\n",
    "image = np.zeros((8,8))\n",
    "image[0,0]=0;image[0,1]=12;image[0,2]=53;image[0,3]=32;image[0,4]=190;image[0,5]=53;image[0,6]=174;image[0,7]=53;\n",
    "image[1,0]=57;image[1,1]=32;image[1,2]=12;image[1,3]=227;image[1,4]=219;image[1,5]=202;image[1,6]=32;image[1,7]=154;\n",
    "image[2,0]=65;image[2,1]=85;image[2,2]=93;image[2,3]=239;image[2,4]=251;image[2,5]=227;image[2,6]=65;image[2,7]=158;\n",
    "image[3,0]=73;image[3,1]=146;image[3,2]=146;image[3,3]=247;image[3,4]=255;image[3,5]=235;image[3,6]=154;image[3,7]=130;\n",
    "image[4,0]=97;image[4,1]=166;image[4,2]=117;image[4,3]=231;image[4,4]=243;image[4,5]=210;image[4,6]=117;image[4,7]=117;\n",
    "image[5,0]=117;image[5,1]=190;image[5,2]=36;image[5,3]=146;image[5,4]=178;image[5,5]=93;image[5,6]=20;image[5,7]=170;\n",
    "image[6,0]=130;image[6,1]=202;image[6,2]=73;image[6,3]=20;image[6,4]=12;image[6,5]=53;image[6,6]=85;image[6,7]=194;\n",
    "image[7,0]=146;image[7,1]=206;image[7,2]=130;image[7,3]=117;image[7,4]=85;image[7,5]=166;image[7,6]=182;image[7,7]=215;\n",
    "image"
   ]
  },
  {
   "cell_type": "code",
   "execution_count": null,
   "metadata": {},
   "outputs": [],
   "source": [
    "#lecture de l'image\n",
    "#image =cv.imread('yourImage.png',0)\n",
    "#décommenter au besoin"
   ]
  },
  {
   "cell_type": "code",
   "execution_count": 7,
   "metadata": {},
   "outputs": [
    {
     "data": {
      "text/plain": [
       "<matplotlib.image.AxesImage at 0x191da6d2438>"
      ]
     },
     "execution_count": 7,
     "metadata": {},
     "output_type": "execute_result"
    },
    {
     "data": {
      "image/png": "[encoded data removed]",
      "text/plain": [
       "<Figure size 432x288 with 1 Axes>"
      ]
     },
     "metadata": {
      "needs_background": "light"
     },
     "output_type": "display_data"
    }
   ],
   "source": [
    "plt.imshow(image,cmap='gray')"
   ]
  },
  {
   "cell_type": "markdown",
   "metadata": {},
   "source": [
    "# Calcul du gradient de l'image"
   ]
  },
  {
   "cell_type": "markdown",
   "metadata": {},
   "source": [
    "Définir d'abord une fonction de convolution  \n",
    "**Astuce**: pour ajouter du padding il est possible d'utiliser la fonction cv.copyMakeBorder"
   ]
  },
  {
   "cell_type": "code",
   "execution_count": 19,
   "metadata": {},
   "outputs": [],
   "source": [
    "def convolution(image,filtre):\n",
    "    \n",
    "    return imageC"
   ]
  },
  {
   "cell_type": "markdown",
   "metadata": {},
   "source": [
    "Gradient par rapport à x  "
   ]
  },
  {
   "cell_type": "code",
   "execution_count": null,
   "metadata": {},
   "outputs": [],
   "source": []
  },
  {
   "cell_type": "markdown",
   "metadata": {},
   "source": [
    "Gradient par rapport à y"
   ]
  },
  {
   "cell_type": "code",
   "execution_count": null,
   "metadata": {},
   "outputs": [],
   "source": []
  },
  {
   "cell_type": "markdown",
   "metadata": {},
   "source": [
    "Magnitude du Gradient $Mod(G(i,j)) = \\sqrt{(G_x(i,j)^2+G_y(j,j)^2} $"
   ]
  },
  {
   "cell_type": "code",
   "execution_count": null,
   "metadata": {},
   "outputs": [],
   "source": []
  },
  {
   "cell_type": "markdown",
   "metadata": {},
   "source": [
    "Orientation du gradient $\\theta = tan^{-1}\\left( \\frac{G_y(i,j) }{G_x(j,j)}\\right) $  \n",
    "**Astuce** Il est possible d'utiliser la fonction np.arctan2, mais elle retourne les valeurs en radians. Il est possible de les convertir en degrees soit manuellement, soit en utilisant math.degrees"
   ]
  },
  {
   "cell_type": "code",
   "execution_count": null,
   "metadata": {},
   "outputs": [],
   "source": []
  },
  {
   "cell_type": "markdown",
   "metadata": {},
   "source": [
    "# Binarisation de l'image  \n",
    "D'abord binariser l'image en fonction de la magnitude comme vu en TD (G(i,j)>70)  \n",
    "Ensuite binariser en fonction du niveau de gris (I(x,y)>70)  \n",
    "Observer la difference entre les deux résultats,   \n",
    "Qu'obtient-on  de chaque binarisation?"
   ]
  },
  {
   "cell_type": "code",
   "execution_count": null,
   "metadata": {},
   "outputs": [],
   "source": []
  },
  {
   "cell_type": "markdown",
   "metadata": {},
   "source": [
    "# Dilatation avec un élement structurant de type diamond"
   ]
  },
  {
   "cell_type": "code",
   "execution_count": null,
   "metadata": {},
   "outputs": [],
   "source": []
  },
  {
   "cell_type": "markdown",
   "metadata": {},
   "source": [
    "comparer avec opencv"
   ]
  },
  {
   "cell_type": "code",
   "execution_count": 61,
   "metadata": {},
   "outputs": [],
   "source": [
    "kernel = np.ones((3,3), np.uint8)\n",
    "# imageB est l'image après seuillage\n",
    "imageDI = cv.dilate(imageB, kernel, iterations=1)\n",
    "imagzER = cv.erode(imageB, kernel, iterations=1)"
   ]
  },
  {
   "cell_type": "markdown",
   "metadata": {},
   "source": [
    "# Erosion avec un élément structurant de type carré "
   ]
  },
  {
   "cell_type": "code",
   "execution_count": null,
   "metadata": {},
   "outputs": [],
   "source": []
  },
  {
   "cell_type": "markdown",
   "metadata": {},
   "source": [
    "# Dérivé avec filtres Prewitt et Sobel"
   ]
  },
  {
   "cell_type": "markdown",
   "metadata": {},
   "source": [
    "D'abord définir les filtres"
   ]
  },
  {
   "cell_type": "code",
   "execution_count": 23,
   "metadata": {},
   "outputs": [],
   "source": [
    "#Prewitt\n",
    "c=1\n",
    "# commenter et décommenter c au besoin\n",
    "filtreP_x = np.array([[-1,0,1],[-c,0,c],[1,0,1]])\n",
    "filtreP_y = np.array([[-1,-c,-1],[0,0,0],[1,c,1]])\n",
    "#Sobel\n",
    "c=2\n",
    "filtreS_x = np.array([[-1,0,1],[-c,0,c],[1,0,1]])\n",
    "filtreS_y = np.array([[-1,-c,-1],[0,0,0],[1,c,1]])"
   ]
  },
  {
   "cell_type": "markdown",
   "metadata": {},
   "source": [
    "Ensuite appliquer le filtre avec une convolution pour calculer la dérivé avec filtre Prewitt"
   ]
  },
  {
   "cell_type": "markdown",
   "metadata": {},
   "source": [
    "dérivé par rapport à x"
   ]
  },
  {
   "cell_type": "code",
   "execution_count": null,
   "metadata": {},
   "outputs": [],
   "source": []
  },
  {
   "cell_type": "markdown",
   "metadata": {},
   "source": [
    "dérivé par rapport à y"
   ]
  },
  {
   "cell_type": "code",
   "execution_count": null,
   "metadata": {},
   "outputs": [],
   "source": []
  },
  {
   "cell_type": "markdown",
   "metadata": {},
   "source": [
    "Et appliquer le filtre avec une convolution pour calculer la dérivé avec filtre Sobel"
   ]
  },
  {
   "cell_type": "markdown",
   "metadata": {},
   "source": [
    "dérivé par rapport à x"
   ]
  },
  {
   "cell_type": "code",
   "execution_count": null,
   "metadata": {},
   "outputs": [],
   "source": []
  },
  {
   "cell_type": "markdown",
   "metadata": {},
   "source": [
    "dérivé par rapport à y"
   ]
  },
  {
   "cell_type": "code",
   "execution_count": null,
   "metadata": {},
   "outputs": [],
   "source": []
  },
  {
   "cell_type": "markdown",
   "metadata": {},
   "source": [
    "# Comparer vos résultats avec opencv"
   ]
  },
  {
   "cell_type": "code",
   "execution_count": 26,
   "metadata": {},
   "outputs": [
    {
     "data": {
      "text/plain": [
       "<matplotlib.image.AxesImage at 0x191da953828>"
      ]
     },
     "execution_count": 26,
     "metadata": {},
     "output_type": "execute_result"
    },
    {
     "data": {
      "image/png": "[encoded data removed]",
      "text/plain": [
       "<Figure size 432x288 with 4 Axes>"
      ]
     },
     "metadata": {
      "needs_background": "light"
     },
     "output_type": "display_data"
    }
   ],
   "source": [
    "Gx_Prewitt_cv=cv.filter2D(image,-1,kernel=filtreP_x)\n",
    "Gy_Prewitt_cv=cv.filter2D(image,-1,kernel=filtreP_y)\n",
    "Gx_Sobel_cv=cv.filter2D(image,-1,kernel=filtreS_x)\n",
    "Gy_Sobel_cv=cv.filter2D(image,-1,kernel=filtreS_y)\n",
    "plt.subplot(141)\n",
    "plt.imshow(Gx_Prewitt_cv,cmap='gray')\n",
    "plt.subplot(142)\n",
    "plt.imshow(Gy_Prewitt_cv,cmap='gray')\n",
    "plt.subplot(143)\n",
    "plt.imshow(Gx_Sobel_cv,cmap='gray')\n",
    "plt.subplot(144)\n",
    "plt.imshow(Gy_Sobel_cv,cmap='gray')"
   ]
  },
  {
   "cell_type": "markdown",
   "metadata": {},
   "source": [
    "# Deuxième dérivé de l'image\n",
    "Convolution avec l'opérateur Laplacien"
   ]
  },
  {
   "cell_type": "code",
   "execution_count": 27,
   "metadata": {},
   "outputs": [],
   "source": [
    "filtre_Lap = np.array([[0,1,0],[1,-4,1],[0,1,0]])"
   ]
  },
  {
   "cell_type": "markdown",
   "metadata": {},
   "source": [
    "Appliquer la convolution "
   ]
  },
  {
   "cell_type": "code",
   "execution_count": null,
   "metadata": {},
   "outputs": [],
   "source": []
  },
  {
   "cell_type": "markdown",
   "metadata": {},
   "source": [
    "comparer avec opencv"
   ]
  },
  {
   "cell_type": "code",
   "execution_count": null,
   "metadata": {},
   "outputs": [],
   "source": []
  },
  {
   "cell_type": "markdown",
   "metadata": {},
   "source": [
    "Filtre Moyen"
   ]
  },
  {
   "cell_type": "code",
   "execution_count": null,
   "metadata": {},
   "outputs": [],
   "source": []
  },
  {
   "cell_type": "markdown",
   "metadata": {},
   "source": [
    "Appliquer la convolution"
   ]
  },
  {
   "cell_type": "code",
   "execution_count": null,
   "metadata": {},
   "outputs": [],
   "source": []
  },
  {
   "cell_type": "markdown",
   "metadata": {},
   "source": [
    "comparer avec opencv"
   ]
  },
  {
   "cell_type": "code",
   "execution_count": 28,
   "metadata": {},
   "outputs": [],
   "source": [
    "# taille de fenetre F\n",
    "F=3\n",
    "filtreMoy = np.ones((F,F),np.float32)/(F*F)\n",
    "imageMoy=cv.filter2D(image,-1,filtreMoy)\n",
    "# ou bien utiliser la fonction cv.blur\n",
    "imageMoy = cv.blur(image,(F,F))"
   ]
  },
  {
   "cell_type": "markdown",
   "metadata": {},
   "source": [
    "Filtre Gaussien"
   ]
  },
  {
   "cell_type": "code",
   "execution_count": 47,
   "metadata": {},
   "outputs": [],
   "source": [
    "sigma=1\n",
    "F=3\n",
    "# caluler le filtre avec la formule donnée en cours/TD\n",
    "\n"
   ]
  },
  {
   "cell_type": "markdown",
   "metadata": {},
   "source": [
    "appliquer la convolution en utilisant le filtre créé"
   ]
  },
  {
   "cell_type": "code",
   "execution_count": null,
   "metadata": {},
   "outputs": [],
   "source": []
  },
  {
   "cell_type": "markdown",
   "metadata": {},
   "source": [
    "Appliquer la convolution et comparer avec opencv"
   ]
  },
  {
   "cell_type": "code",
   "execution_count": 52,
   "metadata": {},
   "outputs": [],
   "source": [
    "imageG= cv.GaussianBlur(image, (F,F),cv.BORDER_DEFAULT)"
   ]
  },
  {
   "cell_type": "markdown",
   "metadata": {},
   "source": [
    "Filtre médian"
   ]
  },
  {
   "cell_type": "code",
   "execution_count": null,
   "metadata": {},
   "outputs": [],
   "source": []
  },
  {
   "cell_type": "markdown",
   "metadata": {},
   "source": [
    "Comparer avec opencv"
   ]
  },
  {
   "cell_type": "code",
   "execution_count": 59,
   "metadata": {},
   "outputs": [],
   "source": [
    "imageMed = cv.medianBlur(image,F)"
   ]
  },
  {
   "cell_type": "markdown",
   "metadata": {},
   "source": [
    "# Tester avec les autres images"
   ]
  },
  {
   "cell_type": "markdown",
   "metadata": {},
   "source": [
    "# Consignes\n",
    "\n",
    "Le travail est à remettre par groupe de 4 au maximum [1..4].\n",
    "\n",
    "Le délai est le vendredi 28 novembre 2021 à 23:00\n"
   ]
  },
  {
   "cell_type": "code",
   "execution_count": null,
   "metadata": {},
   "outputs": [],
   "source": [
    "# bonne chance"
   ]
  }
 ],
 "metadata": {
  "colab": {
   "collapsed_sections": [],
   "name": "Gradient.ipynb",
   "provenance": []
  },
  "kernelspec": {
   "display_name": "Python 3",
   "language": "python",
   "name": "python3"
  },
  "language_info": {
   "codemirror_mode": {
    "name": "ipython",
    "version": 3
   },
   "file_extension": ".py",
   "mimetype": "text/x-python",
   "name": "python",
   "nbconvert_exporter": "python",
   "pygments_lexer": "ipython3",
   "version": "3.7.3"
  }
 },
 "nbformat": 4,
 "nbformat_minor": 1
}
